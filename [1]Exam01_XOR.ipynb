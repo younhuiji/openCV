{
  "cells": [
    {
      "cell_type": "markdown",
      "metadata": {
        "id": "view-in-github",
        "colab_type": "text"
      },
      "source": [
        "<a href=\"https://colab.research.google.com/github/younhuiji/openCV/blob/main/%5B1%5DExam01_XOR.ipynb\" target=\"_parent\"><img src=\"https://colab.research.google.com/assets/colab-badge.svg\" alt=\"Open In Colab\"/></a>"
      ]
    },
    {
      "cell_type": "markdown",
      "metadata": {
        "id": "JVP7WvdRzDWU"
      },
      "source": [
        "### [Q1]  딥러닝 아키텍처 설계 1"
      ]
    },
    {
      "cell_type": "code",
      "execution_count": null,
      "metadata": {
        "id": "jABV1pyszDWW"
      },
      "outputs": [],
      "source": [
        "import numpy as np\n",
        "\n",
        "# 활성화함수 sigmoid\n",
        "def sigmoid(x):\n",
        "    return 1 / (1 + np.exp(-x))"
      ]
    },
    {
      "cell_type": "code",
      "execution_count": null,
      "metadata": {
        "id": "ZB9kUK7WzDWW"
      },
      "outputs": [],
      "source": [
        "input_data = np.array([ [1, 1], [4, 3] ])\n",
        "target_data = np.array([ 0, 1 ])"
      ]
    },
    {
      "cell_type": "code",
      "execution_count": null,
      "metadata": {
        "id": "47aNOISYzDWX"
      },
      "outputs": [],
      "source": [
        "input_nodes = 2    # 입력노드\n",
        "hidden_nodes = 2   # 은닉노드\n",
        "output_nodes = 1   # 출력노드"
      ]
    },
    {
      "cell_type": "code",
      "execution_count": null,
      "metadata": {
        "id": "WaViJLKIzDWX",
        "outputId": "267e6257-fe8f-435d-a5e2-b4d2b3531c0a"
      },
      "outputs": [
        {
          "name": "stdout",
          "output_type": "stream",
          "text": [
            "W2 =  [[0.6820753  0.60184626]\n",
            " [0.70331545 0.71796579]] , W2.shape =  (2, 2)\n",
            "b2 =  [0.87716226 0.10201054] , b2.shape =  (2,)\n",
            "W3 =  [[0.86371482]\n",
            " [0.95146402]] , W3.shape =  (2, 1)\n",
            "b3 =  [0.80682401] , b3.shape =  (1,)\n"
          ]
        }
      ],
      "source": [
        "W2 = np.random.rand(input_nodes, hidden_nodes)\n",
        "b2 = np.random.rand(hidden_nodes)\n",
        "\n",
        "W3 = np.random.rand(hidden_nodes, output_nodes)\n",
        "b3 = np.random.rand(output_nodes)\n",
        "\n",
        "print(\"W2 = \", W2, \", W2.shape = \", W2.shape)\n",
        "print(\"b2 = \", b2, \", b2.shape = \", b2.shape)\n",
        "print(\"W3 = \", W3, \", W3.shape = \", W3.shape)\n",
        "print(\"b3 = \", b3, \", b3.shape = \", b3.shape)"
      ]
    },
    {
      "cell_type": "code",
      "execution_count": null,
      "metadata": {
        "id": "qxWyfdnazDWX"
      },
      "outputs": [],
      "source": [
        "\n",
        "\n"
      ]
    },
    {
      "cell_type": "code",
      "execution_count": null,
      "metadata": {
        "id": "WEWMPp4lzDWY"
      },
      "outputs": [],
      "source": []
    }
  ],
  "metadata": {
    "anaconda-cloud": {},
    "kernelspec": {
      "display_name": "Python 3 (ipykernel)",
      "language": "python",
      "name": "python3"
    },
    "language_info": {
      "codemirror_mode": {
        "name": "ipython",
        "version": 3
      },
      "file_extension": ".py",
      "mimetype": "text/x-python",
      "name": "python",
      "nbconvert_exporter": "python",
      "pygments_lexer": "ipython3",
      "version": "3.9.12"
    },
    "colab": {
      "provenance": [],
      "include_colab_link": true
    }
  },
  "nbformat": 4,
  "nbformat_minor": 0
}