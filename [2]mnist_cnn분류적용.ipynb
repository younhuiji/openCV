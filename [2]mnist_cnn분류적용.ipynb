{
  "cells": [
    {
      "cell_type": "markdown",
      "metadata": {
        "id": "view-in-github",
        "colab_type": "text"
      },
      "source": [
        "<a href=\"https://colab.research.google.com/github/younhuiji/openCV/blob/main/%5B2%5Dmnist_cnn%E1%84%87%E1%85%AE%E1%86%AB%E1%84%85%E1%85%B2%E1%84%8C%E1%85%A5%E1%86%A8%E1%84%8B%E1%85%AD%E1%86%BC.ipynb\" target=\"_parent\"><img src=\"https://colab.research.google.com/assets/colab-badge.svg\" alt=\"Open In Colab\"/></a>"
      ]
    },
    {
      "cell_type": "code",
      "source": [
        "from google.colab import drive\n",
        "drive.mount('/content/drive')"
      ],
      "metadata": {
        "colab": {
          "base_uri": "https://localhost:8080/",
          "height": 341
        },
        "id": "OrfEPQXI8jGK",
        "outputId": "2e348ca6-dc7f-40a6-c796-e21c292b25df"
      },
      "execution_count": null,
      "outputs": [
        {
          "output_type": "error",
          "ename": "ValueError",
          "evalue": "ignored",
          "traceback": [
            "\u001b[0;31m---------------------------------------------------------------------------\u001b[0m",
            "\u001b[0;31mValueError\u001b[0m                                Traceback (most recent call last)",
            "\u001b[0;32m<ipython-input-3-d5df0069828e>\u001b[0m in \u001b[0;36m<cell line: 2>\u001b[0;34m()\u001b[0m\n\u001b[1;32m      1\u001b[0m \u001b[0;32mfrom\u001b[0m \u001b[0mgoogle\u001b[0m\u001b[0;34m.\u001b[0m\u001b[0mcolab\u001b[0m \u001b[0;32mimport\u001b[0m \u001b[0mdrive\u001b[0m\u001b[0;34m\u001b[0m\u001b[0;34m\u001b[0m\u001b[0m\n\u001b[0;32m----> 2\u001b[0;31m \u001b[0mdrive\u001b[0m\u001b[0;34m.\u001b[0m\u001b[0mmount\u001b[0m\u001b[0;34m(\u001b[0m\u001b[0;34m'/content/drive'\u001b[0m\u001b[0;34m)\u001b[0m\u001b[0;34m\u001b[0m\u001b[0;34m\u001b[0m\u001b[0m\n\u001b[0m",
            "\u001b[0;32m/usr/local/lib/python3.10/dist-packages/google/colab/drive.py\u001b[0m in \u001b[0;36mmount\u001b[0;34m(mountpoint, force_remount, timeout_ms, readonly)\u001b[0m\n\u001b[1;32m    101\u001b[0m \u001b[0;32mdef\u001b[0m \u001b[0mmount\u001b[0m\u001b[0;34m(\u001b[0m\u001b[0mmountpoint\u001b[0m\u001b[0;34m,\u001b[0m \u001b[0mforce_remount\u001b[0m\u001b[0;34m=\u001b[0m\u001b[0;32mFalse\u001b[0m\u001b[0;34m,\u001b[0m \u001b[0mtimeout_ms\u001b[0m\u001b[0;34m=\u001b[0m\u001b[0;36m120000\u001b[0m\u001b[0;34m,\u001b[0m \u001b[0mreadonly\u001b[0m\u001b[0;34m=\u001b[0m\u001b[0;32mFalse\u001b[0m\u001b[0;34m)\u001b[0m\u001b[0;34m:\u001b[0m\u001b[0;34m\u001b[0m\u001b[0;34m\u001b[0m\u001b[0m\n\u001b[1;32m    102\u001b[0m   \u001b[0;34m\"\"\"Mount your Google Drive at the specified mountpoint path.\"\"\"\u001b[0m\u001b[0;34m\u001b[0m\u001b[0;34m\u001b[0m\u001b[0m\n\u001b[0;32m--> 103\u001b[0;31m   return _mount(\n\u001b[0m\u001b[1;32m    104\u001b[0m       \u001b[0mmountpoint\u001b[0m\u001b[0;34m,\u001b[0m\u001b[0;34m\u001b[0m\u001b[0;34m\u001b[0m\u001b[0m\n\u001b[1;32m    105\u001b[0m       \u001b[0mforce_remount\u001b[0m\u001b[0;34m=\u001b[0m\u001b[0mforce_remount\u001b[0m\u001b[0;34m,\u001b[0m\u001b[0;34m\u001b[0m\u001b[0;34m\u001b[0m\u001b[0m\n",
            "\u001b[0;32m/usr/local/lib/python3.10/dist-packages/google/colab/drive.py\u001b[0m in \u001b[0;36m_mount\u001b[0;34m(mountpoint, force_remount, timeout_ms, ephemeral, readonly)\u001b[0m\n\u001b[1;32m    190\u001b[0m       \u001b[0;32mraise\u001b[0m \u001b[0mValueError\u001b[0m\u001b[0;34m(\u001b[0m\u001b[0;34m'Mountpoint must not be a symlink'\u001b[0m\u001b[0;34m)\u001b[0m\u001b[0;34m\u001b[0m\u001b[0;34m\u001b[0m\u001b[0m\n\u001b[1;32m    191\u001b[0m     \u001b[0;32mif\u001b[0m \u001b[0m_os\u001b[0m\u001b[0;34m.\u001b[0m\u001b[0mpath\u001b[0m\u001b[0;34m.\u001b[0m\u001b[0misdir\u001b[0m\u001b[0;34m(\u001b[0m\u001b[0mmountpoint\u001b[0m\u001b[0;34m)\u001b[0m \u001b[0;32mand\u001b[0m \u001b[0m_os\u001b[0m\u001b[0;34m.\u001b[0m\u001b[0mlistdir\u001b[0m\u001b[0;34m(\u001b[0m\u001b[0mmountpoint\u001b[0m\u001b[0;34m)\u001b[0m\u001b[0;34m:\u001b[0m\u001b[0;34m\u001b[0m\u001b[0;34m\u001b[0m\u001b[0m\n\u001b[0;32m--> 192\u001b[0;31m       \u001b[0;32mraise\u001b[0m \u001b[0mValueError\u001b[0m\u001b[0;34m(\u001b[0m\u001b[0;34m'Mountpoint must not already contain files'\u001b[0m\u001b[0;34m)\u001b[0m\u001b[0;34m\u001b[0m\u001b[0;34m\u001b[0m\u001b[0m\n\u001b[0m\u001b[1;32m    193\u001b[0m     \u001b[0;32mif\u001b[0m \u001b[0;32mnot\u001b[0m \u001b[0m_os\u001b[0m\u001b[0;34m.\u001b[0m\u001b[0mpath\u001b[0m\u001b[0;34m.\u001b[0m\u001b[0misdir\u001b[0m\u001b[0;34m(\u001b[0m\u001b[0mmountpoint\u001b[0m\u001b[0;34m)\u001b[0m \u001b[0;32mand\u001b[0m \u001b[0m_os\u001b[0m\u001b[0;34m.\u001b[0m\u001b[0mpath\u001b[0m\u001b[0;34m.\u001b[0m\u001b[0mexists\u001b[0m\u001b[0;34m(\u001b[0m\u001b[0mmountpoint\u001b[0m\u001b[0;34m)\u001b[0m\u001b[0;34m:\u001b[0m\u001b[0;34m\u001b[0m\u001b[0;34m\u001b[0m\u001b[0m\n\u001b[1;32m    194\u001b[0m       \u001b[0;32mraise\u001b[0m \u001b[0mValueError\u001b[0m\u001b[0;34m(\u001b[0m\u001b[0;34m'Mountpoint must either be a directory or not exist'\u001b[0m\u001b[0;34m)\u001b[0m\u001b[0;34m\u001b[0m\u001b[0;34m\u001b[0m\u001b[0m\n",
            "\u001b[0;31mValueError\u001b[0m: Mountpoint must not already contain files"
          ]
        }
      ]
    },
    {
      "cell_type": "code",
      "source": [
        "import tensorflow as tf\n",
        "\n",
        "# 데이터 로드\n",
        "mnist = tf.keras.datasets.mnist\n",
        "(x_train, y_train), (x_test, y_test) = mnist.load_data()\n",
        "x_train = x_train.reshape(x_train.shape[0], 28, 28, 1)  # CNN에 필요한 4D 텐서 형태로 변환\n",
        "x_test = x_test.reshape(x_test.shape[0], 28, 28, 1)\n",
        "x_train, x_test = x_train / 255.0, x_test / 255.0\n",
        "\n",
        "# CNN 모델 구성\n",
        "model = tf.keras.models.Sequential([\n",
        "    tf.keras.layers.Conv2D(32, kernel_size=(3, 3), activation='relu', input_shape=(28, 28, 1)),\n",
        "    tf.keras.layers.MaxPooling2D(pool_size=(2, 2)),\n",
        "    tf.keras.layers.Conv2D(64, kernel_size=(3, 3), activation='relu'),\n",
        "    tf.keras.layers.MaxPooling2D(pool_size=(2, 2)),\n",
        "    tf.keras.layers.Flatten(),\n",
        "    tf.keras.layers.Dense(128, activation='relu'),\n",
        "    tf.keras.layers.Dropout(0.5),\n",
        "    tf.keras.layers.Dense(10, activation='softmax')\n",
        "])\n",
        "\n",
        "# 모델 컴파일\n",
        "model.compile(optimizer='adam',\n",
        "              loss='sparse_categorical_crossentropy',\n",
        "              metrics=['accuracy'])\n",
        "\n",
        "# 모델 학습\n",
        "model.fit(x_train, y_train, epochs=100)\n",
        "\n",
        "# 모델 저장\n",
        "model.save('/content/drive/MyDrive/저녁ICT/day20/mnist_cnn_model.h5')\n",
        "\n"
      ],
      "metadata": {
        "id": "TM8O49wrwD1p",
        "colab": {
          "base_uri": "https://localhost:8080/"
        },
        "outputId": "89038414-b7e0-4a6e-e164-3bbd2e8f1eb2"
      },
      "execution_count": null,
      "outputs": [
        {
          "output_type": "stream",
          "name": "stdout",
          "text": [
            "Downloading data from https://storage.googleapis.com/tensorflow/tf-keras-datasets/mnist.npz\n",
            "11490434/11490434 [==============================] - 0s 0us/step\n",
            "Epoch 1/100\n",
            "1875/1875 [==============================] - 18s 4ms/step - loss: 0.2182 - accuracy: 0.9336\n",
            "Epoch 2/100\n",
            "1875/1875 [==============================] - 7s 4ms/step - loss: 0.0806 - accuracy: 0.9761\n",
            "Epoch 3/100\n",
            "1875/1875 [==============================] - 8s 4ms/step - loss: 0.0596 - accuracy: 0.9824\n",
            "Epoch 4/100\n",
            "1875/1875 [==============================] - 7s 4ms/step - loss: 0.0489 - accuracy: 0.9851\n",
            "Epoch 5/100\n",
            "1875/1875 [==============================] - 7s 4ms/step - loss: 0.0405 - accuracy: 0.9878\n",
            "Epoch 6/100\n",
            "1875/1875 [==============================] - 7s 4ms/step - loss: 0.0333 - accuracy: 0.9898\n",
            "Epoch 7/100\n",
            "1875/1875 [==============================] - 7s 4ms/step - loss: 0.0323 - accuracy: 0.9897\n",
            "Epoch 8/100\n",
            "1875/1875 [==============================] - 8s 4ms/step - loss: 0.0258 - accuracy: 0.9916\n",
            "Epoch 9/100\n",
            "1875/1875 [==============================] - 7s 4ms/step - loss: 0.0239 - accuracy: 0.9923\n",
            "Epoch 10/100\n",
            "1875/1875 [==============================] - 7s 4ms/step - loss: 0.0216 - accuracy: 0.9933\n",
            "Epoch 11/100\n",
            "1875/1875 [==============================] - 7s 4ms/step - loss: 0.0196 - accuracy: 0.9934\n",
            "Epoch 12/100\n",
            "1875/1875 [==============================] - 7s 4ms/step - loss: 0.0188 - accuracy: 0.9940\n",
            "Epoch 13/100\n",
            "1875/1875 [==============================] - 7s 4ms/step - loss: 0.0174 - accuracy: 0.9943\n",
            "Epoch 14/100\n",
            "1875/1875 [==============================] - 7s 4ms/step - loss: 0.0165 - accuracy: 0.9943\n",
            "Epoch 15/100\n",
            "1875/1875 [==============================] - 7s 4ms/step - loss: 0.0147 - accuracy: 0.9956\n",
            "Epoch 16/100\n",
            "1875/1875 [==============================] - 7s 4ms/step - loss: 0.0144 - accuracy: 0.9955\n",
            "Epoch 17/100\n",
            "1875/1875 [==============================] - 7s 4ms/step - loss: 0.0138 - accuracy: 0.9954\n",
            "Epoch 18/100\n",
            "1875/1875 [==============================] - 7s 4ms/step - loss: 0.0131 - accuracy: 0.9959\n",
            "Epoch 19/100\n",
            "1875/1875 [==============================] - 7s 4ms/step - loss: 0.0112 - accuracy: 0.9960\n",
            "Epoch 20/100\n",
            "1875/1875 [==============================] - 7s 4ms/step - loss: 0.0128 - accuracy: 0.9960\n",
            "Epoch 21/100\n",
            "1875/1875 [==============================] - 7s 4ms/step - loss: 0.0118 - accuracy: 0.9958\n",
            "Epoch 22/100\n",
            "1875/1875 [==============================] - 7s 4ms/step - loss: 0.0110 - accuracy: 0.9966\n",
            "Epoch 23/100\n",
            "1875/1875 [==============================] - 7s 4ms/step - loss: 0.0125 - accuracy: 0.9961\n",
            "Epoch 24/100\n",
            "1875/1875 [==============================] - 7s 4ms/step - loss: 0.0105 - accuracy: 0.9969\n",
            "Epoch 25/100\n",
            "1875/1875 [==============================] - 7s 4ms/step - loss: 0.0112 - accuracy: 0.9964\n",
            "Epoch 26/100\n",
            "1875/1875 [==============================] - 8s 4ms/step - loss: 0.0095 - accuracy: 0.9970\n",
            "Epoch 27/100\n",
            "1875/1875 [==============================] - 8s 4ms/step - loss: 0.0096 - accuracy: 0.9971\n",
            "Epoch 28/100\n",
            "1875/1875 [==============================] - 7s 4ms/step - loss: 0.0084 - accuracy: 0.9972\n",
            "Epoch 29/100\n",
            "1875/1875 [==============================] - 7s 4ms/step - loss: 0.0090 - accuracy: 0.9968\n",
            "Epoch 30/100\n",
            "1875/1875 [==============================] - 7s 4ms/step - loss: 0.0097 - accuracy: 0.9970\n",
            "Epoch 31/100\n",
            "1875/1875 [==============================] - 7s 4ms/step - loss: 0.0081 - accuracy: 0.9973\n",
            "Epoch 32/100\n",
            "1875/1875 [==============================] - 7s 4ms/step - loss: 0.0088 - accuracy: 0.9973\n",
            "Epoch 33/100\n",
            "1875/1875 [==============================] - 7s 4ms/step - loss: 0.0088 - accuracy: 0.9972\n",
            "Epoch 34/100\n",
            "1875/1875 [==============================] - 7s 4ms/step - loss: 0.0092 - accuracy: 0.9971\n",
            "Epoch 35/100\n",
            "1875/1875 [==============================] - 7s 4ms/step - loss: 0.0089 - accuracy: 0.9972\n",
            "Epoch 36/100\n",
            "1875/1875 [==============================] - 7s 4ms/step - loss: 0.0079 - accuracy: 0.9976\n",
            "Epoch 37/100\n",
            "1875/1875 [==============================] - 7s 4ms/step - loss: 0.0077 - accuracy: 0.9977\n",
            "Epoch 38/100\n",
            "1875/1875 [==============================] - 7s 4ms/step - loss: 0.0066 - accuracy: 0.9979\n",
            "Epoch 39/100\n",
            "1875/1875 [==============================] - 7s 4ms/step - loss: 0.0090 - accuracy: 0.9974\n",
            "Epoch 40/100\n",
            "1875/1875 [==============================] - 7s 4ms/step - loss: 0.0076 - accuracy: 0.9978\n",
            "Epoch 41/100\n",
            "1875/1875 [==============================] - 7s 4ms/step - loss: 0.0065 - accuracy: 0.9978\n",
            "Epoch 42/100\n",
            "1875/1875 [==============================] - 7s 4ms/step - loss: 0.0072 - accuracy: 0.9976\n",
            "Epoch 43/100\n",
            "1875/1875 [==============================] - 7s 4ms/step - loss: 0.0070 - accuracy: 0.9977\n",
            "Epoch 44/100\n",
            "1875/1875 [==============================] - 7s 4ms/step - loss: 0.0089 - accuracy: 0.9974\n",
            "Epoch 45/100\n",
            "1875/1875 [==============================] - 7s 4ms/step - loss: 0.0078 - accuracy: 0.9977\n",
            "Epoch 46/100\n",
            "1875/1875 [==============================] - 7s 4ms/step - loss: 0.0067 - accuracy: 0.9979\n",
            "Epoch 47/100\n",
            "1875/1875 [==============================] - 7s 4ms/step - loss: 0.0069 - accuracy: 0.9979\n",
            "Epoch 48/100\n",
            "1875/1875 [==============================] - 7s 4ms/step - loss: 0.0062 - accuracy: 0.9980\n",
            "Epoch 49/100\n",
            "1875/1875 [==============================] - 7s 4ms/step - loss: 0.0073 - accuracy: 0.9977\n",
            "Epoch 50/100\n",
            "1875/1875 [==============================] - 7s 4ms/step - loss: 0.0075 - accuracy: 0.9978\n",
            "Epoch 51/100\n",
            "1875/1875 [==============================] - 7s 4ms/step - loss: 0.0072 - accuracy: 0.9976\n",
            "Epoch 52/100\n",
            "1875/1875 [==============================] - 7s 4ms/step - loss: 0.0058 - accuracy: 0.9986\n",
            "Epoch 53/100\n",
            "1875/1875 [==============================] - 7s 4ms/step - loss: 0.0089 - accuracy: 0.9976\n",
            "Epoch 54/100\n",
            "1875/1875 [==============================] - 7s 4ms/step - loss: 0.0055 - accuracy: 0.9984\n",
            "Epoch 55/100\n",
            "1875/1875 [==============================] - 7s 4ms/step - loss: 0.0074 - accuracy: 0.9978\n",
            "Epoch 56/100\n",
            "1875/1875 [==============================] - 7s 4ms/step - loss: 0.0068 - accuracy: 0.9979\n",
            "Epoch 57/100\n",
            "1875/1875 [==============================] - 7s 4ms/step - loss: 0.0070 - accuracy: 0.9981\n",
            "Epoch 58/100\n",
            "1875/1875 [==============================] - 8s 4ms/step - loss: 0.0070 - accuracy: 0.9979\n",
            "Epoch 59/100\n",
            "1875/1875 [==============================] - 7s 4ms/step - loss: 0.0080 - accuracy: 0.9978\n",
            "Epoch 60/100\n",
            "1875/1875 [==============================] - 8s 4ms/step - loss: 0.0058 - accuracy: 0.9983\n",
            "Epoch 61/100\n",
            "1875/1875 [==============================] - 8s 4ms/step - loss: 0.0080 - accuracy: 0.9978\n",
            "Epoch 62/100\n",
            "1875/1875 [==============================] - 7s 4ms/step - loss: 0.0068 - accuracy: 0.9980\n",
            "Epoch 63/100\n",
            "1875/1875 [==============================] - 7s 4ms/step - loss: 0.0065 - accuracy: 0.9980\n",
            "Epoch 64/100\n",
            "1875/1875 [==============================] - 7s 4ms/step - loss: 0.0069 - accuracy: 0.9980\n",
            "Epoch 65/100\n",
            "1875/1875 [==============================] - 7s 4ms/step - loss: 0.0058 - accuracy: 0.9981\n",
            "Epoch 66/100\n",
            "1875/1875 [==============================] - 8s 4ms/step - loss: 0.0062 - accuracy: 0.9980\n",
            "Epoch 67/100\n",
            "1875/1875 [==============================] - 7s 4ms/step - loss: 0.0063 - accuracy: 0.9981\n",
            "Epoch 68/100\n",
            "1875/1875 [==============================] - 8s 4ms/step - loss: 0.0060 - accuracy: 0.9982\n",
            "Epoch 69/100\n",
            "1875/1875 [==============================] - 8s 4ms/step - loss: 0.0072 - accuracy: 0.9979\n",
            "Epoch 70/100\n",
            "1875/1875 [==============================] - 7s 4ms/step - loss: 0.0058 - accuracy: 0.9983\n",
            "Epoch 71/100\n",
            "1875/1875 [==============================] - 8s 4ms/step - loss: 0.0068 - accuracy: 0.9983\n",
            "Epoch 72/100\n",
            "1875/1875 [==============================] - 8s 4ms/step - loss: 0.0059 - accuracy: 0.9985\n",
            "Epoch 73/100\n",
            "1875/1875 [==============================] - 7s 4ms/step - loss: 0.0069 - accuracy: 0.9981\n",
            "Epoch 74/100\n",
            "1875/1875 [==============================] - 8s 4ms/step - loss: 0.0041 - accuracy: 0.9987\n",
            "Epoch 75/100\n",
            "1875/1875 [==============================] - 7s 4ms/step - loss: 0.0073 - accuracy: 0.9981\n",
            "Epoch 76/100\n",
            "1875/1875 [==============================] - 8s 4ms/step - loss: 0.0071 - accuracy: 0.9982\n",
            "Epoch 77/100\n",
            "1875/1875 [==============================] - 8s 4ms/step - loss: 0.0054 - accuracy: 0.9985\n",
            "Epoch 78/100\n",
            "1875/1875 [==============================] - 7s 4ms/step - loss: 0.0081 - accuracy: 0.9979\n",
            "Epoch 79/100\n",
            "1875/1875 [==============================] - 8s 4ms/step - loss: 0.0058 - accuracy: 0.9984\n",
            "Epoch 80/100\n",
            "1875/1875 [==============================] - 7s 4ms/step - loss: 0.0061 - accuracy: 0.9983\n",
            "Epoch 81/100\n",
            "1875/1875 [==============================] - 7s 4ms/step - loss: 0.0058 - accuracy: 0.9984\n",
            "Epoch 82/100\n",
            "1875/1875 [==============================] - 8s 4ms/step - loss: 0.0074 - accuracy: 0.9983\n",
            "Epoch 83/100\n",
            "1875/1875 [==============================] - 7s 4ms/step - loss: 0.0054 - accuracy: 0.9984\n",
            "Epoch 84/100\n",
            "1875/1875 [==============================] - 7s 4ms/step - loss: 0.0046 - accuracy: 0.9985\n",
            "Epoch 85/100\n",
            "1875/1875 [==============================] - 7s 4ms/step - loss: 0.0061 - accuracy: 0.9982\n",
            "Epoch 86/100\n",
            "1875/1875 [==============================] - 7s 4ms/step - loss: 0.0072 - accuracy: 0.9981\n",
            "Epoch 87/100\n",
            "1875/1875 [==============================] - 7s 4ms/step - loss: 0.0059 - accuracy: 0.9983\n",
            "Epoch 88/100\n",
            "1875/1875 [==============================] - 7s 4ms/step - loss: 0.0054 - accuracy: 0.9988\n",
            "Epoch 89/100\n",
            "1875/1875 [==============================] - 7s 4ms/step - loss: 0.0074 - accuracy: 0.9983\n",
            "Epoch 90/100\n",
            "1875/1875 [==============================] - 7s 4ms/step - loss: 0.0051 - accuracy: 0.9985\n",
            "Epoch 91/100\n",
            "1875/1875 [==============================] - 7s 4ms/step - loss: 0.0067 - accuracy: 0.9982\n",
            "Epoch 92/100\n",
            "1875/1875 [==============================] - 7s 4ms/step - loss: 0.0064 - accuracy: 0.9984\n",
            "Epoch 93/100\n",
            "1875/1875 [==============================] - 8s 4ms/step - loss: 0.0062 - accuracy: 0.9984\n",
            "Epoch 94/100\n",
            "1875/1875 [==============================] - 7s 4ms/step - loss: 0.0059 - accuracy: 0.9983\n",
            "Epoch 95/100\n",
            "1875/1875 [==============================] - 8s 4ms/step - loss: 0.0073 - accuracy: 0.9979\n",
            "Epoch 96/100\n",
            "1875/1875 [==============================] - 7s 4ms/step - loss: 0.0062 - accuracy: 0.9986\n",
            "Epoch 97/100\n",
            "1875/1875 [==============================] - 7s 4ms/step - loss: 0.0059 - accuracy: 0.9982\n",
            "Epoch 98/100\n",
            "1875/1875 [==============================] - 7s 4ms/step - loss: 0.0055 - accuracy: 0.9985\n",
            "Epoch 99/100\n",
            "1875/1875 [==============================] - 8s 4ms/step - loss: 0.0041 - accuracy: 0.9989\n",
            "Epoch 100/100\n",
            "1875/1875 [==============================] - 7s 4ms/step - loss: 0.0067 - accuracy: 0.9984\n"
          ]
        },
        {
          "output_type": "stream",
          "name": "stderr",
          "text": [
            "/usr/local/lib/python3.10/dist-packages/keras/src/engine/training.py:3000: UserWarning: You are saving your model as an HDF5 file via `model.save()`. This file format is considered legacy. We recommend using instead the native Keras format, e.g. `model.save('my_model.keras')`.\n",
            "  saving_api.save_model(\n"
          ]
        }
      ]
    },
    {
      "cell_type": "markdown",
      "source": [
        "# 1. 숫자 이미지를  읽어서 판별해 보자."
      ],
      "metadata": {
        "id": "wg-oUjSdzvnU"
      }
    },
    {
      "cell_type": "code",
      "source": [
        "import cv2\n",
        "import tensorflow as tf\n",
        "import numpy as np\n",
        "from google.colab.patches import cv2_imshow\n",
        "\n",
        "# 1. TensorFlow로 모델 불러오기\n",
        "model = tf.keras.models.load_model('/content/drive/MyDrive/저녁ICT/day20/mnist_cnn_model.h5')\n",
        "\n",
        "# 2. 이미지 파일 읽기\n",
        "image_path = '/content/drive/MyDrive/저녁ICT/day20/number2.jpg'\n",
        "image = cv2.imread(image_path, cv2.IMREAD_GRAYSCALE)\n",
        "\n",
        "if image is None:\n",
        "    print(\"Failed to load the image.\")\n",
        "\n",
        "\n",
        "# 이미지 전처리\n",
        "resized = cv2.resize(image, (28, 28))  # mnist는 28x28 이미지를 사용\n",
        "normalized = resized / 255.0\n",
        "\n",
        "# 모델에 맞게 차원을 조정\n",
        "input_data = np.expand_dims(normalized, axis=[0, -1])\n",
        "\n",
        "# 3. 예측 수행\n",
        "prediction = model.predict(input_data)\n",
        "predicted_label = np.argmax(prediction, axis=1)[0]\n",
        "\n",
        "# 4. 예측 결과 화면에 출력\n",
        "print(f\"Predicted Label: {predicted_label}\")\n",
        "cv2.putText(image, f\"Predicted: {predicted_label}\", (10, 30), cv2.FONT_HERSHEY_SIMPLEX, 1, (0, 0, 255), 2)\n",
        "cv2_imshow(image)\n",
        "\n",
        "\n"
      ],
      "metadata": {
        "colab": {
          "base_uri": "https://localhost:8080/",
          "height": 473
        },
        "id": "KuKWooIdsTUh",
        "outputId": "e41c8d83-5df6-49ef-86c1-2e918a00abc8"
      },
      "execution_count": null,
      "outputs": [
        {
          "output_type": "stream",
          "name": "stdout",
          "text": [
            "1/1 [==============================] - 0s 75ms/step\n",
            "Predicted Label: 2\n"
          ]
        },
        {
          "output_type": "display_data",
          "data": {
            "text/plain": [
              "<PIL.Image.Image image mode=L size=342x421>"
            ],
            "image/png": "[encoded data removed]"
          },
          "metadata": {}
        }
      ]
    },
    {
      "cell_type": "markdown",
      "source": [
        "# 2. 비디오 캡처로 숫자를 입력받아 판별해보자"
      ],
      "metadata": {
        "id": "Hg4RwvF-z7p7"
      }
    },
    {
      "cell_type": "markdown",
      "source": [
        "Google Colab은 웹 기반 환경이기 때문에 직접적으로 웹캠에 액세스할 수 없어요!!\n",
        "mnist_model.h5을 다운로드 받아 로컬에서 사용하세요"
      ],
      "metadata": {
        "id": "4kmRVX911p2w"
      }
    },
    {
      "cell_type": "code",
      "source": [
        "import cv2\n",
        "import numpy as np\n",
        "import tensorflow as tf\n",
        "\n",
        "\n",
        "# 1. TensorFlow로 모델 불러오기\n",
        "model = tf.keras.models.load_model('mnist_cnn_model.h5')\n",
        "\n",
        "# 2. OpenCV로 웹캠에서 이미지 가져오기\n",
        "cap = cv2.VideoCapture(0)\n",
        "\n",
        "while True:\n",
        "    ret, frame = cap.read()\n",
        "    if not ret:\n",
        "        break\n",
        "\n",
        "    # 이미지를 그레이스케일로 변환하고 크기 조절\n",
        "    gray = cv2.cvtColor(frame, cv2.COLOR_BGR2GRAY)\n",
        "    resized = cv2.resize(gray, (28, 28)) # mnist는 28x28 이미지를 사용\n",
        "    normalized = resized / 255.0\n",
        "\n",
        "    # 모델에 맞게 차원 조정\n",
        "    input_data = np.expand_dims(normalized, axis=[0, -1])\n",
        "\n",
        "    # 3. 예측 수행\n",
        "    prediction = model.predict(input_data)\n",
        "    predicted_label = np.argmax(prediction, axis=1)[0]\n",
        "\n",
        "    # 4. 예측 결과 화면에 출력\n",
        "    cv2.putText(frame, f\"Predicted: {predicted_label}\", (10, 30), cv2.FONT_HERSHEY_SIMPLEX, 1, (0, 0, 255), 2)\n",
        "    cv2.imshow(\"predicted_label\",frame)\n",
        "\n",
        "    if cv2.waitKey(1) & 0xFF == ord('q'):\n",
        "        break\n",
        "\n",
        "cap.release()\n",
        "cv2.destroyAllWindows()"
      ],
      "metadata": {
        "id": "PsbOwQCruwfL"
      },
      "execution_count": null,
      "outputs": []
    },
    {
      "cell_type": "code",
      "source": [],
      "metadata": {
        "id": "DAPxsZJp1SxT"
      },
      "execution_count": null,
      "outputs": []
    }
  ],
  "metadata": {
    "accelerator": "GPU",
    "colab": {
      "provenance": [],
      "gpuType": "T4",
      "include_colab_link": true
    },
    "kernelspec": {
      "display_name": "Python 3",
      "name": "python3"
    },
    "language_info": {
      "codemirror_mode": {
        "name": "ipython",
        "version": 3
      },
      "file_extension": ".py",
      "mimetype": "text/x-python",
      "name": "python",
      "nbconvert_exporter": "python",
      "pygments_lexer": "ipython3",
      "version": "3.9.12"
    }
  },
  "nbformat": 4,
  "nbformat_minor": 0
}